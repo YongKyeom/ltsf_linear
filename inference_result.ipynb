{
 "cells": [
  {
   "cell_type": "code",
   "execution_count": null,
   "metadata": {},
   "outputs": [],
   "source": [
    "import pandas as pd\n",
    "import numpy as np\n",
    "import torch\n",
    "import sys\n",
    "import warnings\n",
    "import os\n",
    "\n",
    "from datetime import datetime\n",
    "\n",
    "from common.visualize import plot_predictions\n",
    "from common.logger import Logger\n",
    "from config.config import DATE_COL_NM, TARGET_COL_NM, NLINEAR_PARAMETER\n",
    "from data.data_loader import load_data, create_windows_for_inference\n",
    "from data.data_factor import create_dataloaders\n",
    "from model.nlinear.execute_module import NLinearModel\n",
    "from model.dlinear.execute_module import DLinearModel, DNLinearModel\n",
    "from model.cnn_nlinear.execute_module import CNN_NLinear\n",
    "from model.hybrid.execute_module import HybridModel\n",
    "from utils.tools import generate_predictions\n",
    "from utils.metrics import MSE, MAE, MAPE\n",
    "\n",
    "warnings.simplefilter(action=\"ignore\", category=FutureWarning)\n",
    "warnings.simplefilter(action=\"ignore\", category=RuntimeWarning)\n",
    "warnings.filterwarnings(\"ignore\")\n",
    "\n",
    "pd.options.display.float_format = \"{:.4f}\".format\n",
    "pd.options.display.min_rows = 10\n",
    "pd.options.display.max_rows = 100\n",
    "pd.options.display.max_columns = None\n",
    "pd.options.display.max_colwidth = 30\n"
   ]
  },
  {
   "cell_type": "code",
   "execution_count": null,
   "metadata": {},
   "outputs": [],
   "source": [
    "%matplotlib inline\n",
    "\n",
    "import matplotlib.pyplot as plt\n",
    "import seaborn as sns\n"
   ]
  },
  {
   "cell_type": "code",
   "execution_count": null,
   "metadata": {},
   "outputs": [],
   "source": [
    "## Log 선언\n",
    "CREATED_TIME = datetime.now()\n",
    "LOG_PATH = \"./logs/\"\n",
    "if not os.path.exists(LOG_PATH):\n",
    "    os.makedirs(LOG_PATH)\n",
    "LOGFILE_NM = \"ltsf_linear_inference_log\"\n",
    "\n",
    "## Define Logger\n",
    "logger = Logger(path=LOG_PATH, name=LOGFILE_NM, date=CREATED_TIME).logger\n",
    "\n",
    "logger.info(\"NLinear, DLinear, NDLinear, CNN_NLiear, Stacking(Hybrid) model inference is Start\")"
   ]
  },
  {
   "cell_type": "markdown",
   "metadata": {},
   "source": [
    "# Load Data"
   ]
  },
  {
   "cell_type": "code",
   "execution_count": null,
   "metadata": {},
   "outputs": [],
   "source": [
    "# Set torch\n",
    "device = torch.device(\"cpu\")"
   ]
  },
  {
   "cell_type": "code",
   "execution_count": null,
   "metadata": {},
   "outputs": [],
   "source": [
    "raw_data = load_data(\"./dataset/ETTh1.csv\", date_col_nm=DATE_COL_NM, target_col_nm=TARGET_COL_NM)\n",
    "\n",
    "logger.info(f\"Total data count: {raw_data.shape[0]}\")\n",
    "logger.info(f\"Date: {raw_data.index.min()} ~ {raw_data.index.max()}\")"
   ]
  },
  {
   "cell_type": "code",
   "execution_count": null,
   "metadata": {},
   "outputs": [],
   "source": [
    "(\n",
    "    (train_set, train_loader),\n",
    "    (val_set, val_loader),\n",
    "    (test_set, test_loader),\n",
    "    (pred_set, pred_loader)\n",
    ") =  create_dataloaders(\n",
    "    embed = 'timeF', \n",
    "    train_only = False,\n",
    "    batch_size = NLINEAR_PARAMETER['batch_size'],\n",
    "    freq = 'h',\n",
    "    data_type_list = ['train', 'val', 'test', 'pred'],\n",
    "    seq_len = NLINEAR_PARAMETER['window_size'],\n",
    "    label_len = NLINEAR_PARAMETER['forecast_size'],\n",
    "    pred_len = NLINEAR_PARAMETER['forecast_size'],\n",
    "    features = 'S',\n",
    "    target = 'OT',\n",
    "    root_path = './dataset',\n",
    "    data_path = 'ETTh1.csv',\n",
    ")"
   ]
  },
  {
   "cell_type": "markdown",
   "metadata": {},
   "source": [
    "# Load Models"
   ]
  },
  {
   "cell_type": "code",
   "execution_count": null,
   "metadata": {},
   "outputs": [],
   "source": [
    "nlinear_model = NLinearModel(\n",
    "    window_size=336,\n",
    "    forecast_size=96,\n",
    "    individual=False,\n",
    "    feature_size=1,\n",
    "    logger=logger,\n",
    ")\n",
    "nlinear_model.load_state_dict(torch.load('./result/best_model__nlinear.pth'))\n",
    "\n",
    "dlinear_model = DLinearModel(\n",
    "    window_size=336,\n",
    "    forecast_size=96,\n",
    "    individual=False,\n",
    "    enc_in=1,\n",
    "    logger=logger,\n",
    ")\n",
    "dlinear_model.load_state_dict(torch.load('./result/best_model__dlinear.pth'))\n",
    "\n",
    "dnlinear_model = DNLinearModel(\n",
    "    window_size=336,\n",
    "    forecast_size=96,\n",
    "    individual=False,\n",
    "    enc_in=1,\n",
    "    kernel_size=25,\n",
    "    logger=logger,\n",
    ")\n",
    "dnlinear_model.load_state_dict(torch.load('./result/best_model__dnlinear.pth'))\n",
    "\n",
    "cnn_nlinear_model = CNN_NLinear(\n",
    "    window_size=336,\n",
    "    forecast_size=96,\n",
    "    conv_kernel_size=20,\n",
    "    conv_filters=48,\n",
    "    in_channels=1,\n",
    "    dropout_rate=0.3,\n",
    "    logger=logger,\n",
    ")\n",
    "cnn_nlinear_model.load_state_dict(torch.load('./result/best_model__cnn_nlinear.pth'))\n",
    "\n",
    "hybrid_model = HybridModel(\n",
    "    models=[nlinear_model, dlinear_model, dnlinear_model, cnn_nlinear_model],\n",
    "    window_size=336,\n",
    "    dropout_rate=0.3,\n",
    "    logger=logger,\n",
    ")\n",
    "hybrid_model.load_state_dict(torch.load('./result/best_model__hybrid.pth'))"
   ]
  },
  {
   "cell_type": "markdown",
   "metadata": {},
   "source": [
    "# Inference"
   ]
  },
  {
   "cell_type": "markdown",
   "metadata": {},
   "source": [
    "## Test set 예측"
   ]
  },
  {
   "cell_type": "code",
   "execution_count": null,
   "metadata": {},
   "outputs": [],
   "source": [
    "nlinear_pred_result = nlinear_model.final_predict(test_set, test_loader, device, logger)\n",
    "dlinear_pred_result = dlinear_model.final_predict(test_set, test_loader, device, logger)\n",
    "dnlinear_pred_result = dnlinear_model.final_predict(test_set, test_loader, device, logger)\n",
    "cnn_nlinear_pred_result = cnn_nlinear_model.final_predict(test_set, test_loader, device, logger)\n",
    "hybrid_pred_result = hybrid_model.final_predict(test_set, test_loader, device, logger)"
   ]
  },
  {
   "cell_type": "markdown",
   "metadata": {},
   "source": [
    "## Test set 예측오차"
   ]
  },
  {
   "cell_type": "code",
   "execution_count": null,
   "metadata": {},
   "outputs": [],
   "source": [
    "testset_metric = pd.DataFrame(\n",
    "    {\n",
    "        'MODEL_NAME': ['NLinear', 'DLinear', 'DNLinear', 'CNN_NLinear', 'Hybrid'],\n",
    "        'MSE': [\n",
    "            MSE(nlinear_pred_result['pred'], nlinear_pred_result['true']),\n",
    "            MSE(dlinear_pred_result['pred'], dlinear_pred_result['true']),\n",
    "            MSE(dnlinear_pred_result['pred'], dnlinear_pred_result['true']),\n",
    "            MSE(cnn_nlinear_pred_result['pred'], cnn_nlinear_pred_result['true']),\n",
    "            MSE(hybrid_pred_result['pred'], hybrid_pred_result['true']),\n",
    "        ],\n",
    "        'MAE': [\n",
    "            MAE(nlinear_pred_result['pred'], nlinear_pred_result['true']),\n",
    "            MAE(dlinear_pred_result['pred'], dlinear_pred_result['true']),\n",
    "            MAE(dnlinear_pred_result['pred'], dnlinear_pred_result['true']),\n",
    "            MAE(cnn_nlinear_pred_result['pred'], cnn_nlinear_pred_result['true']),\n",
    "            MAE(hybrid_pred_result['pred'], hybrid_pred_result['true']),\n",
    "        ],\n",
    "        'MAPE': [\n",
    "            MAPE(nlinear_pred_result['pred'], nlinear_pred_result['true']),\n",
    "            MAPE(dlinear_pred_result['pred'], dlinear_pred_result['true']),\n",
    "            MAPE(dnlinear_pred_result['pred'], dnlinear_pred_result['true']),\n",
    "            MAPE(cnn_nlinear_pred_result['pred'], cnn_nlinear_pred_result['true']),\n",
    "            MAPE(hybrid_pred_result['pred'], hybrid_pred_result['true']),\n",
    "        ]\n",
    "    }\n",
    ")\n",
    "\n",
    "display(testset_metric)"
   ]
  },
  {
   "cell_type": "markdown",
   "metadata": {},
   "source": [
    "# 학습시간\n",
    "1. NLinear: 4초\n",
    "2. DLinear: 10초\n",
    "3. NDLinear: 12초\n",
    "4. CNN_NLinear: 1분 20초\n",
    "5. Hybrid: 8분"
   ]
  },
  {
   "cell_type": "markdown",
   "metadata": {},
   "source": [
    "## 시각화"
   ]
  },
  {
   "cell_type": "markdown",
   "metadata": {},
   "source": [
    "### 추론을 위한 Dataset 생성"
   ]
  },
  {
   "cell_type": "code",
   "execution_count": null,
   "metadata": {},
   "outputs": [],
   "source": [
    "# 윈도우 생성\n",
    "date_list, x_list, y_list = create_windows_for_inference(raw_data, scaler = train_set.scaler)"
   ]
  },
  {
   "cell_type": "code",
   "execution_count": null,
   "metadata": {},
   "outputs": [],
   "source": [
    "nliear_pred_list = generate_predictions(nlinear_model, x_list)\n",
    "dlinear_pred_list = generate_predictions(dlinear_model, x_list)\n",
    "dnlinear_pred_list = generate_predictions(dnlinear_model, x_list)\n",
    "cnn_nlinear_pred_list = generate_predictions(cnn_nlinear_model, x_list)\n",
    "hybrid_pred_list = generate_predictions(hybrid_model, x_list)\n",
    "\n",
    "## 모델별 Prediction 결과\n",
    "model_pred_dict = {\n",
    "    \"NLinear\": nliear_pred_list,\n",
    "    \"DLinear\": dlinear_pred_list,\n",
    "    \"DNLinear\": dnlinear_pred_list,\n",
    "    \"CNN_NLinear\": cnn_nlinear_pred_list,\n",
    "    \"Hybrid\": hybrid_pred_list,\n",
    "}"
   ]
  },
  {
   "cell_type": "markdown",
   "metadata": {},
   "source": [
    "### Plot"
   ]
  },
  {
   "cell_type": "code",
   "execution_count": null,
   "metadata": {},
   "outputs": [],
   "source": [
    "## 모델별 Prediction 결과\n",
    "model_pred_dict = {\n",
    "    \"NLinear\": nliear_pred_list[10:30],\n",
    "    \"DLinear\": dlinear_pred_list[10:30],\n",
    "    \"DNLinear\": dnlinear_pred_list[10:30],\n",
    "    \"CNN_NLinear\": cnn_nlinear_pred_list[10:30],\n",
    "    \"Hybrid\": hybrid_pred_list[10:30],\n",
    "}\n",
    "\n",
    "plot_predictions(date_list[10:30], x_list[10:30], y_list[10:30], model_pred_dict)"
   ]
  },
  {
   "cell_type": "code",
   "execution_count": null,
   "metadata": {},
   "outputs": [],
   "source": [
    "## 모델별 Prediction 결과\n",
    "model_pred_dict = {\n",
    "    \"NLinear\": nliear_pred_list[-10:],\n",
    "    \"DLinear\": dlinear_pred_list[-10:],\n",
    "    \"DNLinear\": dnlinear_pred_list[-10:],\n",
    "    \"CNN_NLinear\": cnn_nlinear_pred_list[-10:],\n",
    "    \"Hybrid\": hybrid_pred_list[-10:],\n",
    "}\n",
    "\n",
    "plot_predictions(date_list[-10:], x_list[-10:], y_list[-10:], model_pred_dict)"
   ]
  },
  {
   "cell_type": "code",
   "execution_count": null,
   "metadata": {},
   "outputs": [],
   "source": [
    "index_list = [0, 336, 672, 1008, 1344]\n",
    "\n",
    "## 모델별 Prediction 결과\n",
    "model_pred_dict = {\n",
    "    \"NLinear\": [nliear_pred_list[i] for i in index_list],\n",
    "    \"DLinear\": [dlinear_pred_list[i] for i in index_list],\n",
    "    \"DNLinear\": [dnlinear_pred_list[i] for i in index_list],\n",
    "    \"CNN_NLinear\": [cnn_nlinear_pred_list[i] for i in index_list],\n",
    "    \"Hybrid\": [hybrid_pred_list[i] for i in index_list],\n",
    "}\n",
    "\n",
    "plot_predictions(\n",
    "    [date_list[i] for i in index_list],\n",
    "    [x_list[i] for i in index_list],\n",
    "    [y_list[i] for i in index_list],\n",
    "    model_pred_dict\n",
    ")"
   ]
  }
 ],
 "metadata": {
  "kernelspec": {
   "display_name": "base",
   "language": "python",
   "name": "python3"
  },
  "language_info": {
   "codemirror_mode": {
    "name": "ipython",
    "version": 3
   },
   "file_extension": ".py",
   "mimetype": "text/x-python",
   "name": "python",
   "nbconvert_exporter": "python",
   "pygments_lexer": "ipython3",
   "version": "3.12.2"
  }
 },
 "nbformat": 4,
 "nbformat_minor": 2
}
